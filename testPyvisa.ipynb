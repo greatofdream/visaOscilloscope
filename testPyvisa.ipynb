{
 "cells": [
  {
   "cell_type": "markdown",
   "id": "streaming-creator",
   "metadata": {},
   "source": [
    "参考自[techforcurious](http://techforcurious.website/how-to-save-data-from-oscilloscope-using-python-in-linux/)"
   ]
  },
  {
   "cell_type": "code",
   "execution_count": 1,
   "id": "communist-matter",
   "metadata": {},
   "outputs": [
    {
     "name": "stdout",
     "output_type": "stream",
     "text": [
      "C:\\Users\\zhangaq\\bin;C:\\Program Files\\Git\\mingw64\\bin;C:\\Program Files\\Git\\usr\\local\\bin;C:\\Program Files\\Git\\usr\\bin;C:\\Program Files\\Git\\usr\\bin;C:\\Program Files\\Git\\mingw64\\bin;C:\\Program Files\\Git\\usr\\bin;C:\\Users\\zhangaq\\bin;C:\\Windows\\system32;C:\\Windows;C:\\Windows\\System32\\Wbem;C:\\Windows\\System32\\WindowsPowerShell\\v1.0;C:\\Windows\\System32\\OpenSSH;C:\\Program Files\\Microsoft VS Code\\bin;C:\\Program Files\\Java\\jdk-11.0.6\\bin;C:\\Program Files\\nodejs;C:\\Program Files\\Git\\cmd;C:\\Users\\zhangaq\\AppData\\Local\\Programs\\Python\\Python38\\Lib\\site-packages\\libusb\\_platform\\_windows;C:\\Users\\zhangaq\\AppData\\Local\\Programs\\Python\\Python38\\Scripts;C:\\Users\\zhangaq\\AppData\\Local\\Programs\\Python\\Python38;C:\\Users\\zhangaq\\AppData\\Local\\Microsoft\\WindowsApps;C:\\Users\\zhangaq\\AppData\\Roaming\\npm;C:\\Program Files\\JetBrains\\DataGrip 2020.2.3\\bin;C:\\Program Files\\Git\\usr\\bin\\vendor_perl;C:\\Program Files\\Git\\usr\\bin\\core_perl\n"
     ]
    }
   ],
   "source": [
    "import os\n",
    "#os.environ['PATH'] = os.environ['PATH']+'C:\\\\Users\\\\zhangaq\\\\AppData\\\\Local\\\\Programs\\\\Python\\\\Python38\\\\Lib\\\\site-packages\\\\libusb\\\\_platform\\\\_windows\\\\x64;'\n",
    "print(os.environ['PATH'])"
   ]
  },
  {
   "cell_type": "code",
   "execution_count": 2,
   "id": "smaller-morris",
   "metadata": {},
   "outputs": [],
   "source": [
    "import pyvisa as visa\n",
    "# pyvisa https://pyvisa.readthedocs.io/en/latest/"
   ]
  },
  {
   "cell_type": "code",
   "execution_count": 3,
   "id": "applied-visitor",
   "metadata": {},
   "outputs": [],
   "source": [
    "rm = visa.ResourceManager()"
   ]
  },
  {
   "cell_type": "code",
   "execution_count": 4,
   "id": "lesser-operation",
   "metadata": {},
   "outputs": [
    {
     "data": {
      "text/plain": [
       "('USB0::0x0699::0x0374::C010063::INSTR', 'ASRL3::INSTR', 'ASRL4::INSTR')"
      ]
     },
     "execution_count": 4,
     "metadata": {},
     "output_type": "execute_result"
    }
   ],
   "source": [
    "rm.list_resources()"
   ]
  },
  {
   "cell_type": "code",
   "execution_count": 5,
   "id": "grave-notion",
   "metadata": {},
   "outputs": [],
   "source": [
    "vendorID = '0x699'\n",
    "modelID = '0x374'\n",
    "serialNumber = 'C010063'\n",
    "\n",
    "scope = rm.open_resource('USB0::{}::{}::{}::INSTR'.format(vendorID,modelID,serialNumber))"
   ]
  },
  {
   "cell_type": "code",
   "execution_count": 6,
   "id": "structural-labor",
   "metadata": {},
   "outputs": [
    {
     "data": {
      "text/plain": [
       "'TEKTRONIX,DPO2024,C010063,CF:91.1CT FV:v1.52 \\n'"
      ]
     },
     "execution_count": 6,
     "metadata": {},
     "output_type": "execute_result"
    }
   ],
   "source": [
    "scope.query(\"*IDN?\")\n",
    "#scope.write(\"*IDN?\")\n",
    "#print(scope.read())"
   ]
  },
  {
   "cell_type": "code",
   "execution_count": 46,
   "id": "hollow-brother",
   "metadata": {},
   "outputs": [
    {
     "ename": "TypeError",
     "evalue": "get_visa_attribute() missing 1 required positional argument: 'name'",
     "output_type": "error",
     "traceback": [
      "\u001b[1;31m---------------------------------------------------------------------------\u001b[0m",
      "\u001b[1;31mTypeError\u001b[0m                                 Traceback (most recent call last)",
      "\u001b[1;32m<ipython-input-46-bfc3663e75cd>\u001b[0m in \u001b[0;36m<module>\u001b[1;34m\u001b[0m\n\u001b[1;32m----> 1\u001b[1;33m \u001b[0mscope\u001b[0m\u001b[1;33m.\u001b[0m\u001b[0mget_visa_attribute\u001b[0m\u001b[1;33m(\u001b[0m\u001b[1;33m)\u001b[0m\u001b[1;33m\u001b[0m\u001b[1;33m\u001b[0m\u001b[0m\n\u001b[0m",
      "\u001b[1;31mTypeError\u001b[0m: get_visa_attribute() missing 1 required positional argument: 'name'"
     ]
    }
   ],
   "source": [
    "scope.get_visa_attribute()"
   ]
  },
  {
   "cell_type": "code",
   "execution_count": 7,
   "id": "native-county",
   "metadata": {},
   "outputs": [],
   "source": [
    "import numpy as np\n",
    "import matplotlib.pyplot as plt\n"
   ]
  },
  {
   "cell_type": "code",
   "execution_count": 8,
   "id": "forty-capital",
   "metadata": {},
   "outputs": [
    {
     "data": {
      "text/plain": [
       "14"
      ]
     },
     "execution_count": 8,
     "metadata": {},
     "output_type": "execute_result"
    }
   ],
   "source": [
    "# Setting source as Channel 1\n",
    "scope.write('DATA:SOU CH1')\n",
    "scope.write('DATA:WIDTH 1') \n",
    "scope.write('DATA:ENC RPB')"
   ]
  },
  {
   "cell_type": "code",
   "execution_count": 9,
   "id": "olive-committee",
   "metadata": {},
   "outputs": [],
   "source": [
    "# Getting axis info\n",
    "ymult = float(scope.query('WFMPRE:YMULT?')) # y-axis least count\n",
    "yzero = float(scope.query('WFMPRE:YZERO?')) # y-axis zero error\n",
    "yoff = float(scope.query('WFMPRE:YOFF?')) # y-axis offset\n",
    "xincr = float(scope.query('WFMPRE:XINCR?')) # x-axis least count"
   ]
  },
  {
   "cell_type": "code",
   "execution_count": 40,
   "id": "serial-morris",
   "metadata": {},
   "outputs": [],
   "source": [
    "# Reading Binary Data from instrument\n",
    "scope.write('CURV?')\n",
    "data = scope.read_raw() # Reading binary data\n",
    "headerlen = 2 + int(data[1]) # Finding header length\n",
    "header = data[:headerlen] # Separating header \n",
    "ADC_wave = data[headerlen:-1] # Separating data"
   ]
  },
  {
   "cell_type": "code",
   "execution_count": 36,
   "id": "academic-section",
   "metadata": {},
   "outputs": [],
   "source": [
    "ADC_wave = scope.query_binary_values('CURV?', datatype='B',container=np.array)"
   ]
  },
  {
   "cell_type": "code",
   "execution_count": 41,
   "id": "electric-domain",
   "metadata": {},
   "outputs": [],
   "source": [
    "from struct import unpack\n",
    "ADC_wave = np.array(unpack('%sB' % len(ADC_wave),ADC_wave))"
   ]
  },
  {
   "cell_type": "code",
   "execution_count": 42,
   "id": "defensive-launch",
   "metadata": {},
   "outputs": [],
   "source": [
    "Volts = (ADC_wave - yoff) * ymult + yzero\n",
    "Time = np.arange(0, xincr * len(Volts), xincr)"
   ]
  },
  {
   "cell_type": "code",
   "execution_count": 43,
   "id": "acceptable-parade",
   "metadata": {},
   "outputs": [
    {
     "data": {
      "image/png": "[encoded data removed]",
      "text/plain": [
       "<Figure size 432x288 with 1 Axes>"
      ]
     },
     "metadata": {
      "needs_background": "light"
     },
     "output_type": "display_data"
    }
   ],
   "source": [
    "plt.plot(Time, Volts)\n",
    "plt.show()"
   ]
  },
  {
   "cell_type": "code",
   "execution_count": 34,
   "id": "satisfied-administrator",
   "metadata": {},
   "outputs": [
    {
     "data": {
      "text/plain": [
       "0.08"
      ]
     },
     "execution_count": 34,
     "metadata": {},
     "output_type": "execute_result"
    }
   ],
   "source": [
    "ymult"
   ]
  },
  {
   "cell_type": "code",
   "execution_count": 44,
   "id": "equipped-chocolate",
   "metadata": {},
   "outputs": [
    {
     "data": {
      "text/plain": [
       "array([174, 174, 174, ..., 173, 173, 173])"
      ]
     },
     "execution_count": 44,
     "metadata": {},
     "output_type": "execute_result"
    }
   ],
   "source": [
    "ADC_wave"
   ]
  },
  {
   "cell_type": "code",
   "execution_count": null,
   "id": "copyrighted-collins",
   "metadata": {},
   "outputs": [],
   "source": []
  }
 ],
 "metadata": {
  "kernelspec": {
   "display_name": "Python 3",
   "language": "python",
   "name": "python3"
  },
  "language_info": {
   "codemirror_mode": {
    "name": "ipython",
    "version": 3
   },
   "file_extension": ".py",
   "mimetype": "text/x-python",
   "name": "python",
   "nbconvert_exporter": "python",
   "pygments_lexer": "ipython3",
   "version": "3.8.5"
  }
 },
 "nbformat": 4,
 "nbformat_minor": 5
}
